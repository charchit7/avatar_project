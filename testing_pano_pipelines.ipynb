{
 "cells": [
  {
   "cell_type": "markdown",
   "metadata": {},
   "source": [
    "### Testing First Model : StableDiffusionLDM3DPipeline\n",
    "from paper : https://arxiv.org/abs/2305.10853"
   ]
  },
  {
   "cell_type": "code",
   "execution_count": 2,
   "metadata": {},
   "outputs": [
    {
     "name": "stderr",
     "output_type": "stream",
     "text": [
      "/DATA/ai22resch11001/anaconda3/envs/cs_work/lib/python3.8/site-packages/tqdm/auto.py:21: TqdmWarning: IProgress not found. Please update jupyter and ipywidgets. See https://ipywidgets.readthedocs.io/en/stable/user_install.html\n",
      "  from .autonotebook import tqdm as notebook_tqdm\n"
     ]
    }
   ],
   "source": [
    "from diffusers import StableDiffusionLDM3DPipeline"
   ]
  },
  {
   "cell_type": "code",
   "execution_count": 3,
   "metadata": {},
   "outputs": [
    {
     "name": "stderr",
     "output_type": "stream",
     "text": [
      "diffusion_pytorch_model.safetensors: 100%|██████████| 3.44G/3.44G [02:54<00:00, 19.7MB/s]\n",
      "Fetching 16 files: 100%|██████████| 16/16 [02:56<00:00, 11.03s/it]\n",
      "Loading pipeline components...:  14%|█▍        | 1/7 [00:00<00:00,  6.04it/s]`text_config_dict` is provided which will be used to initialize `CLIPTextConfig`. The value `text_config[\"id2label\"]` will be overriden.\n",
      "`text_config_dict` is provided which will be used to initialize `CLIPTextConfig`. The value `text_config[\"bos_token_id\"]` will be overriden.\n",
      "`text_config_dict` is provided which will be used to initialize `CLIPTextConfig`. The value `text_config[\"eos_token_id\"]` will be overriden.\n",
      "Loading pipeline components...: 100%|██████████| 7/7 [00:00<00:00, 12.07it/s]\n"
     ]
    },
    {
     "data": {
      "text/plain": [
       "StableDiffusionLDM3DPipeline {\n",
       "  \"_class_name\": \"StableDiffusionLDM3DPipeline\",\n",
       "  \"_diffusers_version\": \"0.25.1\",\n",
       "  \"_name_or_path\": \"Intel/ldm3d-pano\",\n",
       "  \"feature_extractor\": [\n",
       "    \"transformers\",\n",
       "    \"CLIPImageProcessor\"\n",
       "  ],\n",
       "  \"image_encoder\": [\n",
       "    null,\n",
       "    null\n",
       "  ],\n",
       "  \"requires_safety_checker\": true,\n",
       "  \"safety_checker\": [\n",
       "    \"stable_diffusion\",\n",
       "    \"StableDiffusionSafetyChecker\"\n",
       "  ],\n",
       "  \"scheduler\": [\n",
       "    \"diffusers\",\n",
       "    \"DDIMScheduler\"\n",
       "  ],\n",
       "  \"text_encoder\": [\n",
       "    \"transformers\",\n",
       "    \"CLIPTextModel\"\n",
       "  ],\n",
       "  \"tokenizer\": [\n",
       "    \"transformers\",\n",
       "    \"CLIPTokenizer\"\n",
       "  ],\n",
       "  \"unet\": [\n",
       "    \"diffusers\",\n",
       "    \"UNet2DConditionModel\"\n",
       "  ],\n",
       "  \"vae\": [\n",
       "    \"diffusers\",\n",
       "    \"AutoencoderKL\"\n",
       "  ]\n",
       "}"
      ]
     },
     "execution_count": 3,
     "metadata": {},
     "output_type": "execute_result"
    }
   ],
   "source": [
    "pipe = StableDiffusionLDM3DPipeline.from_pretrained(\"Intel/ldm3d-pano\")\n",
    "pipe.to(\"cuda\")"
   ]
  },
  {
   "cell_type": "code",
   "execution_count": 34,
   "metadata": {},
   "outputs": [],
   "source": [
    "prompts_set1 = [\n",
    "    \"360-degree panoramic image, of a simple room\",\n",
    "    \"360-degree panoramic image, of a luxury room\",\n",
    "    \"360-degree panoramic image, of a spaceship\",\n",
    "    \"360-degree panoramic image, of a forest\",\n",
    "    \"360-degree panoramic image, of an anime style natural landscape\"\n",
    "]\n",
    "\n",
    "prompts_set2 = [\n",
    "    \"360-degree panoramic image, of a simple room, stereoscopic, equirectangular\",\n",
    "    \"360-degree panoramic image, of a luxury room, stereoscopic, equirectangular\",\n",
    "    \"360-degree panoramic image, of a spaceship, stereoscopic, equirectangular\",\n",
    "    \"360-degree panoramic image, of a forest, stereoscopic, equirectangular\",\n",
    "    \"360-degree panoramic image, of an anime style natural landscape, stereoscopic, equirectangular\"\n",
    "]\n"
   ]
  },
  {
   "cell_type": "code",
   "execution_count": 5,
   "metadata": {},
   "outputs": [
    {
     "name": "stderr",
     "output_type": "stream",
     "text": [
      "100%|██████████| 50/50 [01:22<00:00,  1.65s/it]\n"
     ]
    }
   ],
   "source": [
    "output = pipe(\n",
    "        prompts_set1,\n",
    "        width=1024,\n",
    "        height=512,\n",
    "        guidance_scale=5.0,\n",
    "        num_inference_steps=50,\n",
    "    ) \n"
   ]
  },
  {
   "cell_type": "code",
   "execution_count": 8,
   "metadata": {},
   "outputs": [],
   "source": [
    "rgb_image, depth_image = output.rgb, output.depth"
   ]
  },
  {
   "cell_type": "code",
   "execution_count": 39,
   "metadata": {},
   "outputs": [],
   "source": [
    "from PIL import Image\n",
    "\n",
    "def save_images_with_prompt_prefix(dest_pth,model_name, images, prompts):\n",
    "    \n",
    "    if not os.path.exists(dest_pth):\n",
    "        os.mkdir(dest_pth)\n",
    "\n",
    "    for i, image in enumerate(images):\n",
    "        prompt_name = prompts[i].replace(\" \", \"_\")  # Replace spaces with underscores\n",
    "        filename = dest_pth + f\"{model_name}_{prompt_name}_image_{i + 1}.png\"\n",
    "        image.save(filename)\n",
    "        print(f\"Image {i + 1} saved as {filename}\")"
   ]
  },
  {
   "cell_type": "code",
   "execution_count": 19,
   "metadata": {},
   "outputs": [
    {
     "name": "stdout",
     "output_type": "stream",
     "text": [
      "Image 1 saved as LDM_360-degree_panoramic_image,_of_a_simple_room_image_1.png\n",
      "Image 2 saved as LDM_360-degree_panoramic_image,_of_a_luxury_room_image_2.png\n",
      "Image 3 saved as LDM_360-degree_panoramic_image,_of_a_spaceship_image_3.png\n",
      "Image 4 saved as LDM_360-degree_panoramic_image,_of_a_forest_image_4.png\n",
      "Image 5 saved as LDM_360-degree_panoramic_image,_of_an_anime_style_natural_landscape_image_5.png\n"
     ]
    }
   ],
   "source": [
    "save_images_with_prompt_prefix(rgb_image, prompts_set1)\n"
   ]
  },
  {
   "cell_type": "code",
   "execution_count": 20,
   "metadata": {},
   "outputs": [
    {
     "name": "stderr",
     "output_type": "stream",
     "text": [
      "100%|██████████| 50/50 [01:22<00:00,  1.64s/it]\n"
     ]
    }
   ],
   "source": [
    "output2 = pipe(\n",
    "        prompts_set2,\n",
    "        width=1024,\n",
    "        height=512,\n",
    "        guidance_scale=5.0,\n",
    "        num_inference_steps=50,\n",
    "    ) "
   ]
  },
  {
   "cell_type": "code",
   "execution_count": 22,
   "metadata": {},
   "outputs": [],
   "source": [
    "rgb_image, depth_image = output2.rgb, output2.depth"
   ]
  },
  {
   "cell_type": "code",
   "execution_count": 23,
   "metadata": {},
   "outputs": [
    {
     "name": "stdout",
     "output_type": "stream",
     "text": [
      "Image 1 saved as /DATA/ai22resch11001/temp_work/assets/LDM3D_pipeline_prompt_2/LDM_360-degree_panoramic_image,_of_a_simple_room,_stereoscopic,_equirectangular_image_1.png\n",
      "Image 2 saved as /DATA/ai22resch11001/temp_work/assets/LDM3D_pipeline_prompt_2/LDM_360-degree_panoramic_image,_of_a_luxury_room,_stereoscopic,_equirectangular_image_2.png\n",
      "Image 3 saved as /DATA/ai22resch11001/temp_work/assets/LDM3D_pipeline_prompt_2/LDM_360-degree_panoramic_image,_of_a_spaceship,_stereoscopic,_equirectangular_image_3.png\n",
      "Image 4 saved as /DATA/ai22resch11001/temp_work/assets/LDM3D_pipeline_prompt_2/LDM_360-degree_panoramic_image,_of_a_forest,_stereoscopic,_equirectangular_image_4.png\n",
      "Image 5 saved as /DATA/ai22resch11001/temp_work/assets/LDM3D_pipeline_prompt_2/LDM_360-degree_panoramic_image,_of_an_anime_style_natural_landscape,_stereoscopic,_equirectangular_image_5.png\n"
     ]
    }
   ],
   "source": [
    "save_images_with_prompt_prefix('/DATA/ai22resch11001/temp_work/assets/LDM3D_pipeline_prompt_2/', 'LDM', rgb_image, prompts_set2)"
   ]
  },
  {
   "cell_type": "markdown",
   "metadata": {},
   "source": [
    "### MODEL 2 : Stable_DiffusionPanoramaPipeline\n",
    "from paper : https://huggingface.co/papers/2302.08113\n",
    "\n",
    "multi-diffusion which introduces interesting idea that we can have seperate image space(panorama) from a image space(normal picture)."
   ]
  },
  {
   "cell_type": "code",
   "execution_count": 24,
   "metadata": {},
   "outputs": [],
   "source": [
    "import torch\n",
    "from diffusers import StableDiffusionPanoramaPipeline, DDIMScheduler\n"
   ]
  },
  {
   "cell_type": "code",
   "execution_count": 28,
   "metadata": {},
   "outputs": [
    {
     "name": "stderr",
     "output_type": "stream",
     "text": [
      "Loading pipeline components...: 100%|██████████| 6/6 [00:01<00:00,  4.98it/s]\n"
     ]
    }
   ],
   "source": [
    "\n",
    "model_ckpt = \"stabilityai/stable-diffusion-2-base\"\n",
    "scheduler = DDIMScheduler.from_pretrained(model_ckpt, subfolder=\"scheduler\")\n",
    "pipe = StableDiffusionPanoramaPipeline.from_pretrained(model_ckpt, scheduler=scheduler, torch_dtype=torch.float16)\n",
    "pipe = pipe.to(\"cuda\")\n"
   ]
  },
  {
   "cell_type": "code",
   "execution_count": 30,
   "metadata": {},
   "outputs": [
    {
     "name": "stderr",
     "output_type": "stream",
     "text": [
      "100%|██████████| 50/50 [02:28<00:00,  2.96s/it]\n"
     ]
    }
   ],
   "source": [
    "\n",
    "images = pipe(prompts_set1, guidance_scale=5, width=1024, height=512,\n",
    "    circular_padding=True).images"
   ]
  },
  {
   "cell_type": "code",
   "execution_count": 33,
   "metadata": {},
   "outputs": [
    {
     "name": "stdout",
     "output_type": "stream",
     "text": [
      "Image 1 saved as /DATA/ai22resch11001/temp_work/assets/MultiDiffusion/MultiDiffusion_360-degree_panoramic_image,_of_a_simple_room_image_1.png\n",
      "Image 2 saved as /DATA/ai22resch11001/temp_work/assets/MultiDiffusion/MultiDiffusion_360-degree_panoramic_image,_of_a_luxury_room_image_2.png\n",
      "Image 3 saved as /DATA/ai22resch11001/temp_work/assets/MultiDiffusion/MultiDiffusion_360-degree_panoramic_image,_of_a_spaceship_image_3.png\n",
      "Image 4 saved as /DATA/ai22resch11001/temp_work/assets/MultiDiffusion/MultiDiffusion_360-degree_panoramic_image,_of_a_forest_image_4.png\n",
      "Image 5 saved as /DATA/ai22resch11001/temp_work/assets/MultiDiffusion/MultiDiffusion_360-degree_panoramic_image,_of_an_anime_style_natural_landscape_image_5.png\n"
     ]
    }
   ],
   "source": [
    "save_images_with_prompt_prefix('/DATA/ai22resch11001/temp_work/assets/MultiDiffusion/', 'MultiDiffusion', images, prompts_set1)"
   ]
  },
  {
   "cell_type": "code",
   "execution_count": 34,
   "metadata": {},
   "outputs": [
    {
     "name": "stderr",
     "output_type": "stream",
     "text": [
      "100%|██████████| 50/50 [02:42<00:00,  3.25s/it]\n"
     ]
    }
   ],
   "source": [
    "\n",
    "images2 = pipe(prompts_set2, guidance_scale=5, width=1024, height=512,\n",
    "    circular_padding=True).images"
   ]
  },
  {
   "cell_type": "code",
   "execution_count": 40,
   "metadata": {},
   "outputs": [
    {
     "name": "stdout",
     "output_type": "stream",
     "text": [
      "Image 1 saved as /DATA/ai22resch11001/temp_work/assets/MultiDiffusion_prompt_2/MultiDiffusion_360-degree_panoramic_image,_of_a_simple_room,_stereoscopic,_equirectangular_image_1.png\n",
      "Image 2 saved as /DATA/ai22resch11001/temp_work/assets/MultiDiffusion_prompt_2/MultiDiffusion_360-degree_panoramic_image,_of_a_luxury_room,_stereoscopic,_equirectangular_image_2.png\n",
      "Image 3 saved as /DATA/ai22resch11001/temp_work/assets/MultiDiffusion_prompt_2/MultiDiffusion_360-degree_panoramic_image,_of_a_spaceship,_stereoscopic,_equirectangular_image_3.png\n",
      "Image 4 saved as /DATA/ai22resch11001/temp_work/assets/MultiDiffusion_prompt_2/MultiDiffusion_360-degree_panoramic_image,_of_a_forest,_stereoscopic,_equirectangular_image_4.png\n",
      "Image 5 saved as /DATA/ai22resch11001/temp_work/assets/MultiDiffusion_prompt_2/MultiDiffusion_360-degree_panoramic_image,_of_an_anime_style_natural_landscape,_stereoscopic,_equirectangular_image_5.png\n"
     ]
    }
   ],
   "source": [
    "save_images_with_prompt_prefix('/DATA/ai22resch11001/temp_work/assets/MultiDiffusion_prompt_2/', 'MultiDiffusion', images2, prompts_set2)"
   ]
  },
  {
   "cell_type": "markdown",
   "metadata": {},
   "source": [
    "#### TEMP CODE FOR RENAMING! ---------------\n"
   ]
  },
  {
   "cell_type": "code",
   "execution_count": 3,
   "metadata": {},
   "outputs": [
    {
     "data": {
      "text/plain": [
       "['360-degree panoramic image, of a simple room',\n",
       " '360-degree panoramic image, of a luxury room',\n",
       " '360-degree panoramic image, of a spaceship',\n",
       " '360-degree panoramic image, of a forest',\n",
       " '360-degree panoramic image, of an anime style natural landscape']"
      ]
     },
     "execution_count": 3,
     "metadata": {},
     "output_type": "execute_result"
    }
   ],
   "source": [
    "prompts_set1"
   ]
  },
  {
   "cell_type": "code",
   "execution_count": 8,
   "metadata": {},
   "outputs": [
    {
     "name": "stdout",
     "output_type": "stream",
     "text": [
      "20240118103233 11.png\n",
      "20240118103749 11.png\n",
      "20240118105318 11.png\n",
      "20240118104813 11.png\n",
      "20240118104301 11.png\n"
     ]
    }
   ],
   "source": [
    "import os\n",
    "\n",
    "image_folder = \"/DATA/ai22resch11001/temp_work/Results\"  # Replace with the path to your image folder\n",
    "prompt_set1 = [\n",
    "    \"360-degree panoramic image, of a simple room\",\n",
    "    \"360-degree panoramic image, of a luxury room\",\n",
    "    \"360-degree panoramic image, of a spaceship\",\n",
    "    \"360-degree panoramic image, of a forest\",\n",
    "    \"360-degree panoramic image, of an anime style natural landscape\"\n",
    "]\n",
    "\n",
    "for idx, filename in enumerate(os.listdir(image_folder)):\n",
    "    if filename.endswith(\".png\"):\n",
    "        # Extract the timestamp and index from the filename\n",
    "        parts = filename.split(\"_\")\n",
    "        timestamp, index = parts[1], parts[3]\n",
    "        print(timestamp, index)\n",
    "        # Choose the corresponding prompt from prompt_set1 based on the index\n",
    "        prompt = prompt_set1[idx]\n",
    "        # Create the new filename with the appended prompt\n",
    "        new_filename = f\"im_{timestamp}_{index}_{prompt}.png\"\n",
    "\n",
    "        # Rename the file\n",
    "        os.rename(os.path.join(image_folder, filename), os.path.join(image_folder, new_filename))\n"
   ]
  },
  {
   "cell_type": "code",
   "execution_count": 31,
   "metadata": {},
   "outputs": [
    {
     "name": "stdout",
     "output_type": "stream",
     "text": [
      "0 im_20240118104813_11.png_360-degree panoramic image, of a forest.png\n",
      "360-degree panoramic image, of a simple room\n",
      "-----\n",
      "1 im_20240118103749_11.png_360-degree panoramic image, of a luxury room.png\n",
      "360-degree panoramic image, of a luxury room\n",
      "-----\n",
      "2 im_20240118103233_11.png_360-degree panoramic image, of a simple room.png\n",
      "360-degree panoramic image, of a spaceship\n",
      "-----\n",
      "3 im_20240118105318_11.png_360-degree panoramic image, of a spaceship.png\n",
      "360-degree panoramic image, of a forest\n",
      "-----\n",
      "4 im_20240118104301_11.png_360-degree panoramic image, of an anime style natural landscape.png\n",
      "360-degree panoramic image, of an anime style natural landscape\n",
      "-----\n"
     ]
    }
   ],
   "source": [
    "for idx, filename in enumerate(os.listdir(image_folder)):\n",
    "    print(idx, filename)\n",
    "    print(prompt_set1[idx])\n",
    "    print('-----')"
   ]
  },
  {
   "cell_type": "code",
   "execution_count": null,
   "metadata": {},
   "outputs": [],
   "source": []
  }
 ],
 "metadata": {
  "kernelspec": {
   "display_name": "charchit_irt",
   "language": "python",
   "name": "python3"
  },
  "language_info": {
   "codemirror_mode": {
    "name": "ipython",
    "version": 3
   },
   "file_extension": ".py",
   "mimetype": "text/x-python",
   "name": "python",
   "nbconvert_exporter": "python",
   "pygments_lexer": "ipython3",
   "version": "3.8.18"
  }
 },
 "nbformat": 4,
 "nbformat_minor": 2
}
