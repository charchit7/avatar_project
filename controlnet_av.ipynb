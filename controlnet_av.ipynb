{
 "cells": [
  {
   "cell_type": "markdown",
   "metadata": {},
   "source": [
    "### Necessary imports"
   ]
  },
  {
   "cell_type": "code",
   "execution_count": 2,
   "metadata": {},
   "outputs": [],
   "source": [
    "\n",
    "from diffusers import StableDiffusionXLControlNetPipeline, ControlNetModel, AutoencoderKL\n",
    "from diffusers.utils import load_image\n",
    "import numpy as np\n",
    "import torch\n",
    "\n",
    "import cv2\n",
    "from PIL import Image\n"
   ]
  },
  {
   "cell_type": "code",
   "execution_count": 3,
   "metadata": {},
   "outputs": [],
   "source": [
    "from transformers import DPTFeatureExtractor, DPTForDepthEstimation"
   ]
  },
  {
   "cell_type": "markdown",
   "metadata": {},
   "source": [
    "### Generator function for deterministic generation\n",
    "Refer : https://huggingface.co/docs/diffusers/using-diffusers/reusing_seeds"
   ]
  },
  {
   "cell_type": "code",
   "execution_count": 4,
   "metadata": {},
   "outputs": [],
   "source": [
    "generator = [torch.Generator(device=\"cuda\").manual_seed(i) for i in range(4)]"
   ]
  },
  {
   "cell_type": "code",
   "execution_count": 5,
   "metadata": {},
   "outputs": [
    {
     "name": "stderr",
     "output_type": "stream",
     "text": [
      "/DATA/ai22resch11001/anaconda3/envs/cs_work/lib/python3.8/site-packages/transformers/models/dpt/feature_extraction_dpt.py:28: FutureWarning: The class DPTFeatureExtractor is deprecated and will be removed in version 5 of Transformers. Please use DPTImageProcessor instead.\n",
      "  warnings.warn(\n"
     ]
    }
   ],
   "source": [
    "depth_estimator = DPTForDepthEstimation.from_pretrained(\"Intel/dpt-hybrid-midas\").to(\"cuda\")\n",
    "feature_extractor = DPTFeatureExtractor.from_pretrained(\"Intel/dpt-hybrid-midas\")\n",
    "controlnet = ControlNetModel.from_pretrained(\n",
    "    \"diffusers/controlnet-depth-sdxl-1.0\",\n",
    "    variant=\"fp16\",\n",
    "    use_safetensors=True,\n",
    "    torch_dtype=torch.float16,\n",
    ").to(\"cuda\")"
   ]
  },
  {
   "cell_type": "code",
   "execution_count": 6,
   "metadata": {},
   "outputs": [
    {
     "name": "stderr",
     "output_type": "stream",
     "text": [
      "diffusion_pytorch_model.safetensors: 100%|██████████| 335M/335M [00:05<00:00, 62.6MB/s] \n",
      "Loading pipeline components...: 100%|██████████| 7/7 [00:00<00:00,  7.87it/s]\n"
     ]
    }
   ],
   "source": [
    "vae = AutoencoderKL.from_pretrained(\"madebyollin/sdxl-vae-fp16-fix\", torch_dtype=torch.float16).to(\"cuda\")\n",
    "pipe = StableDiffusionXLControlNetPipeline.from_pretrained(\n",
    "    \"stabilityai/stable-diffusion-xl-base-1.0\",\n",
    "    controlnet=controlnet,\n",
    "    vae=vae,\n",
    "    variant=\"fp16\",\n",
    "    use_safetensors=True,\n",
    "    torch_dtype=torch.float16,\n",
    ").to(\"cuda\")\n",
    "pipe.enable_model_cpu_offload()\n"
   ]
  },
  {
   "cell_type": "code",
   "execution_count": 13,
   "metadata": {},
   "outputs": [],
   "source": [
    "def get_depth_map(image):\n",
    "    image = feature_extractor(images=image, return_tensors=\"pt\").pixel_values.to(\"cuda\")\n",
    "    with torch.no_grad(), torch.autocast(\"cuda\"):\n",
    "        depth_map = depth_estimator(image).predicted_depth\n",
    "\n",
    "    depth_map = torch.nn.functional.interpolate(\n",
    "        depth_map.unsqueeze(1),\n",
    "        size=(512, 1024),\n",
    "        mode=\"bicubic\",\n",
    "        align_corners=False,\n",
    "    )\n",
    "    depth_min = torch.amin(depth_map, dim=[1, 2, 3], keepdim=True)\n",
    "    depth_max = torch.amax(depth_map, dim=[1, 2, 3], keepdim=True)\n",
    "    depth_map = (depth_map - depth_min) / (depth_max - depth_min)\n",
    "    image = torch.cat([depth_map] * 3, dim=1)\n",
    "\n",
    "    image = image.permute(0, 2, 3, 1).cpu().numpy()[0]\n",
    "    image = Image.fromarray((image * 255.0).clip(0, 255).astype(np.uint8))\n",
    "    return image"
   ]
  },
  {
   "cell_type": "code",
   "execution_count": 7,
   "metadata": {},
   "outputs": [],
   "source": [
    "image = load_image(\"/DATA/ai22resch11001/temp_work/assets/pano_depth.png\")\n",
    "controlnet_conditioning_scale = 0.5  # recommended for good generalization\n",
    "# depth_image = get_depth_map(image)\n"
   ]
  },
  {
   "cell_type": "code",
   "execution_count": 8,
   "metadata": {},
   "outputs": [
    {
     "data": {
      "text/plain": [
       "PIL.Image.Image"
      ]
     },
     "execution_count": 8,
     "metadata": {},
     "output_type": "execute_result"
    }
   ],
   "source": [
    "type(image)"
   ]
  },
  {
   "cell_type": "code",
   "execution_count": 12,
   "metadata": {},
   "outputs": [
    {
     "data": {
      "text/plain": [
       "(512, 1024, 3)"
      ]
     },
     "execution_count": 12,
     "metadata": {},
     "output_type": "execute_result"
    }
   ],
   "source": [
    "np.array(image).shape"
   ]
  },
  {
   "cell_type": "code",
   "execution_count": 10,
   "metadata": {},
   "outputs": [],
   "source": [
    "prompts_set1 = [\n",
    "    \"360-degree panoramic image, of a simple room\",\n",
    "    \"360-degree panoramic image, of a luxury room\",\n",
    "    \"360-degree panoramic image, of a spaceship\",\n",
    "    \"360-degree panoramic image, of a forest\",\n",
    "    \"360-degree panoramic image, of an anime style natural landscape\"\n",
    "]\n",
    "\n",
    "prompts_set2 = [\n",
    "    \"360-degree panoramic image, of a simple room, stereoscopic, equirectangular\",\n",
    "    \"360-degree panoramic image, of a luxury room, stereoscopic, equirectangular\",\n",
    "    \"360-degree panoramic image, of a spaceship, stereoscopic, equirectangular\",\n",
    "    \"360-degree panoramic image, of a forest, stereoscopic, equirectangular\",\n",
    "    \"360-degree panoramic image, of an anime style natural landscape, stereoscopic, equirectangular\"\n",
    "]\n"
   ]
  },
  {
   "cell_type": "code",
   "execution_count": 11,
   "metadata": {},
   "outputs": [
    {
     "name": "stderr",
     "output_type": "stream",
     "text": [
      "100%|██████████| 30/30 [00:28<00:00,  1.07it/s]\n"
     ]
    }
   ],
   "source": [
    "images = pipe(\n",
    "    prompts_set1, image=image, num_inference_steps=30, controlnet_conditioning_scale=controlnet_conditioning_scale,\n",
    ").images"
   ]
  },
  {
   "cell_type": "code",
   "execution_count": 16,
   "metadata": {},
   "outputs": [],
   "source": [
    "from PIL import Image\n",
    "import os\n",
    "\n",
    "def save_images_with_prompt_prefix(dest_pth,model_name, images, prompts):\n",
    "    \n",
    "    if not os.path.exists(dest_pth):\n",
    "        os.mkdir(dest_pth)\n",
    "\n",
    "    for i, image in enumerate(images):\n",
    "        prompt_name = prompts[i].replace(\" \", \"_\")  # Replace spaces with underscores\n",
    "        filename = dest_pth + f\"{model_name}_{prompt_name}_image_{i + 1}.png\"\n",
    "        image.save(filename)\n",
    "        print(f\"Image {i + 1} saved as {filename}\")"
   ]
  },
  {
   "cell_type": "code",
   "execution_count": 17,
   "metadata": {},
   "outputs": [
    {
     "name": "stdout",
     "output_type": "stream",
     "text": [
      "Image 1 saved as /DATA/ai22resch11001/temp_work/assets/controlnet_pset_1/controlnet_360-degree_panoramic_image,_of_a_simple_room_image_1.png\n",
      "Image 2 saved as /DATA/ai22resch11001/temp_work/assets/controlnet_pset_1/controlnet_360-degree_panoramic_image,_of_a_luxury_room_image_2.png\n",
      "Image 3 saved as /DATA/ai22resch11001/temp_work/assets/controlnet_pset_1/controlnet_360-degree_panoramic_image,_of_a_spaceship_image_3.png\n",
      "Image 4 saved as /DATA/ai22resch11001/temp_work/assets/controlnet_pset_1/controlnet_360-degree_panoramic_image,_of_a_forest_image_4.png\n",
      "Image 5 saved as /DATA/ai22resch11001/temp_work/assets/controlnet_pset_1/controlnet_360-degree_panoramic_image,_of_an_anime_style_natural_landscape_image_5.png\n"
     ]
    }
   ],
   "source": [
    "save_images_with_prompt_prefix('/DATA/ai22resch11001/temp_work/assets/controlnet_pset_1/', 'controlnet', images, prompts_set1)"
   ]
  },
  {
   "cell_type": "code",
   "execution_count": 18,
   "metadata": {},
   "outputs": [
    {
     "name": "stderr",
     "output_type": "stream",
     "text": [
      "100%|██████████| 30/30 [00:27<00:00,  1.08it/s]\n"
     ]
    }
   ],
   "source": [
    "images2 = pipe(\n",
    "    prompts_set2, image=image, num_inference_steps=30, controlnet_conditioning_scale=controlnet_conditioning_scale,\n",
    ").images"
   ]
  },
  {
   "cell_type": "code",
   "execution_count": 19,
   "metadata": {},
   "outputs": [
    {
     "name": "stdout",
     "output_type": "stream",
     "text": [
      "Image 1 saved as /DATA/ai22resch11001/temp_work/assets/controlnet_pset_1/controlnet_360-degree_panoramic_image,_of_a_simple_room,_stereoscopic,_equirectangular_image_1.png\n",
      "Image 2 saved as /DATA/ai22resch11001/temp_work/assets/controlnet_pset_1/controlnet_360-degree_panoramic_image,_of_a_luxury_room,_stereoscopic,_equirectangular_image_2.png\n",
      "Image 3 saved as /DATA/ai22resch11001/temp_work/assets/controlnet_pset_1/controlnet_360-degree_panoramic_image,_of_a_spaceship,_stereoscopic,_equirectangular_image_3.png\n",
      "Image 4 saved as /DATA/ai22resch11001/temp_work/assets/controlnet_pset_1/controlnet_360-degree_panoramic_image,_of_a_forest,_stereoscopic,_equirectangular_image_4.png\n",
      "Image 5 saved as /DATA/ai22resch11001/temp_work/assets/controlnet_pset_1/controlnet_360-degree_panoramic_image,_of_an_anime_style_natural_landscape,_stereoscopic,_equirectangular_image_5.png\n"
     ]
    }
   ],
   "source": [
    "save_images_with_prompt_prefix('/DATA/ai22resch11001/temp_work/assets/controlnet_pset_1/', 'controlnet', images2, prompts_set2)"
   ]
  },
  {
   "cell_type": "code",
   "execution_count": null,
   "metadata": {},
   "outputs": [],
   "source": [
    "# https://colab.research.google.com/drive/1QZHh9-3pjVtqlg2Oeqq_P11BZnH7cTpH?usp=sharing\n"
   ]
  }
 ],
 "metadata": {
  "kernelspec": {
   "display_name": "cs_work",
   "language": "python",
   "name": "python3"
  },
  "language_info": {
   "codemirror_mode": {
    "name": "ipython",
    "version": 3
   },
   "file_extension": ".py",
   "mimetype": "text/x-python",
   "name": "python",
   "nbconvert_exporter": "python",
   "pygments_lexer": "ipython3",
   "version": "3.8.18"
  }
 },
 "nbformat": 4,
 "nbformat_minor": 2
}
